{
 "cells": [
  {
   "cell_type": "code",
   "execution_count": 28,
   "metadata": {},
   "outputs": [],
   "source": [
    "import sys\n",
    "import os\n",
    "\n",
    "# Obtiene la ruta absoluta a la raíz del proyecto (ajusta según tu estructura)\n",
    "project_root = os.path.abspath(os.path.join(os.getcwd(), '..'))\n",
    "if project_root not in sys.path:\n",
    "    sys.path.append(project_root)"
   ]
  },
  {
   "cell_type": "code",
   "execution_count": 44,
   "metadata": {},
   "outputs": [
    {
     "name": "stdout",
     "output_type": "stream",
     "text": [
      "The autoreload extension is already loaded. To reload it, use:\n",
      "  %reload_ext autoreload\n"
     ]
    }
   ],
   "source": [
    "%load_ext autoreload\n",
    "%autoreload 2\n",
    "\n",
    "from src.predict import cargar_modelo, predecir, evaluar, evaluar_meses_tabla"
   ]
  },
  {
   "cell_type": "code",
   "execution_count": 30,
   "metadata": {},
   "outputs": [],
   "source": [
    "import pandas as pd\n",
    "import joblib\n",
    "from sklearn.metrics import f1_score"
   ]
  },
  {
   "attachments": {},
   "cell_type": "markdown",
   "metadata": {},
   "source": [
    "# Cargamos el modelo y las funciones que necesitamos del notebook 00"
   ]
  },
  {
   "cell_type": "code",
   "execution_count": 31,
   "metadata": {},
   "outputs": [],
   "source": [
    "rfc = joblib.load(\"./model/random_forest.joblib\")"
   ]
  },
  {
   "cell_type": "code",
   "execution_count": 32,
   "metadata": {},
   "outputs": [],
   "source": [
    "numeric_feat = [\n",
    "\"pickup_weekday\",\n",
    "\"pickup_hour\",\n",
    "'work_hours',\n",
    "\"pickup_minute\",\n",
    "\"passenger_count\",\n",
    "'trip_distance',\n",
    "'trip_time',\n",
    "'trip_speed'\n",
    "]\n",
    "categorical_feat = [\n",
    "    \"PULocationID\",\n",
    "    \"DOLocationID\",\n",
    "    \"RatecodeID\",\n",
    "]\n",
    "EPS = 1e-7\n",
    "features = numeric_feat + categorical_feat\n",
    "target_col = \"high_tip\""
   ]
  },
  {
   "cell_type": "code",
   "execution_count": 33,
   "metadata": {},
   "outputs": [],
   "source": [
    "def preprocess(df, target_col):\n",
    "\n",
    "   # Basic cleaning\n",
    "    df = df[df['fare_amount'] > 0].reset_index(drop=True)  # avoid divide-by-zero\n",
    "    # add target\n",
    "    df['tip_fraction'] = df['tip_amount'] / df['fare_amount']\n",
    "    df[target_col] = df['tip_fraction'] > 0.2\n",
    "\n",
    "    # add features\n",
    "    df['pickup_weekday'] = df['tpep_pickup_datetime'].dt.weekday\n",
    "    df['pickup_hour'] = df['tpep_pickup_datetime'].dt.hour\n",
    "    df['pickup_minute'] = df['tpep_pickup_datetime'].dt.minute\n",
    "    df['work_hours'] = (df['pickup_weekday'] >= 0) & (df['pickup_weekday'] <= 4) & (df['pickup_hour'] >= 8) & (df['pickup_hour'] <= 18)\n",
    "    df['trip_time'] = (df['tpep_dropoff_datetime'] - df['tpep_pickup_datetime']).dt.seconds\n",
    "    df['trip_speed'] = df['trip_distance'] / (df['trip_time'] + EPS)\n",
    "\n",
    "    # drop unused columns\n",
    "    df = df[['tpep_dropoff_datetime'] + features + [target_col]]\n",
    "    df[features + [target_col]] = df[features + [target_col]].astype(\"float32\").fillna(-1.0)\n",
    "\n",
    "    # convert target to int32 for efficiency (it's just 0s and 1s)\n",
    "    df[target_col] = df[target_col].astype(\"int32\")\n",
    "\n",
    "    return df.reset_index(drop=True)"
   ]
  },
  {
   "cell_type": "markdown",
   "metadata": {},
   "source": [
    "# Evaluación Enero 2020"
   ]
  },
  {
   "cell_type": "code",
   "execution_count": 34,
   "metadata": {},
   "outputs": [
    {
     "name": "stdout",
     "output_type": "stream",
     "text": [
      "enero-2020 F1: 0.7074542897327707\n"
     ]
    }
   ],
   "source": [
    "taxi_march= pd.read_parquet('https://d37ci6vzurychx.cloudfront.net/trip-data/yellow_tripdata_2020-01.parquet')\n",
    "taxi_test = preprocess(taxi_march, target_col=target_col).head(1000)\n",
    "taxi_test.head()\n",
    "\n",
    "preds_test = rfc.predict_proba(taxi_test[features])\n",
    "preds_test_labels = [p[1] for p in preds_test.round()]\n",
    "print(f'enero-2020 F1: {f1_score(taxi_test[target_col], preds_test_labels)}')"
   ]
  },
  {
   "cell_type": "code",
   "execution_count": 35,
   "metadata": {},
   "outputs": [],
   "source": [
    "taxi_test.to_csv('./app/data/yellow_tripdata_2020-01_test.csv', index=False)"
   ]
  },
  {
   "cell_type": "markdown",
   "metadata": {},
   "source": [
    "# Evaluación Febrero 2020"
   ]
  },
  {
   "cell_type": "code",
   "execution_count": 36,
   "metadata": {},
   "outputs": [
    {
     "name": "stdout",
     "output_type": "stream",
     "text": [
      "febrero-2020 F1: 0.7456492637215528\n"
     ]
    }
   ],
   "source": [
    "taxi_march= pd.read_parquet('https://d37ci6vzurychx.cloudfront.net/trip-data/yellow_tripdata_2020-02.parquet')\n",
    "taxi_test = preprocess(taxi_march, target_col=target_col).head(1000)\n",
    "taxi_test.head()\n",
    "\n",
    "preds_test = rfc.predict_proba(taxi_test[features])\n",
    "preds_test_labels = [p[1] for p in preds_test.round()]\n",
    "print(f'febrero-2020 F1: {f1_score(taxi_test[target_col], preds_test_labels)}')"
   ]
  },
  {
   "cell_type": "code",
   "execution_count": 37,
   "metadata": {},
   "outputs": [],
   "source": [
    "taxi_test.to_csv('./app/data/yellow_tripdata_2020-02_test.csv', index=False)"
   ]
  },
  {
   "attachments": {},
   "cell_type": "markdown",
   "metadata": {},
   "source": [
    "# Evaluación Marzo 2020"
   ]
  },
  {
   "cell_type": "code",
   "execution_count": 38,
   "metadata": {},
   "outputs": [
    {
     "name": "stdout",
     "output_type": "stream",
     "text": [
      "marzo-2020 F1: 0.7408880053015242\n"
     ]
    }
   ],
   "source": [
    "taxi_march= pd.read_parquet('https://d37ci6vzurychx.cloudfront.net/trip-data/yellow_tripdata_2020-03.parquet')\n",
    "taxi_test = preprocess(taxi_march, target_col=target_col).head(1000)\n",
    "taxi_test.head()\n",
    "\n",
    "preds_test = rfc.predict_proba(taxi_test[features])\n",
    "preds_test_labels = [p[1] for p in preds_test.round()]\n",
    "print(f'marzo-2020 F1: {f1_score(taxi_test[target_col], preds_test_labels)}')"
   ]
  },
  {
   "cell_type": "code",
   "execution_count": 39,
   "metadata": {},
   "outputs": [],
   "source": [
    "taxi_test.to_csv('./app/data/yellow_tripdata_2020-03_test.csv', index=False)"
   ]
  },
  {
   "attachments": {},
   "cell_type": "markdown",
   "metadata": {},
   "source": [
    "# Evaluación Abril 2020"
   ]
  },
  {
   "cell_type": "code",
   "execution_count": 40,
   "metadata": {},
   "outputs": [
    {
     "name": "stdout",
     "output_type": "stream",
     "text": [
      "abril-2020 F1: 0.5471698113207547\n"
     ]
    }
   ],
   "source": [
    "taxi_may= pd.read_parquet('https://d37ci6vzurychx.cloudfront.net/trip-data/yellow_tripdata_2020-04.parquet')\n",
    "taxi_test = preprocess(taxi_may, target_col=target_col).head(1000)\n",
    "taxi_test.head()\n",
    "\n",
    "preds_test = rfc.predict_proba(taxi_test[features])\n",
    "preds_test_labels = [p[1] for p in preds_test.round()]\n",
    "print(f'abril-2020 F1: {f1_score(taxi_test[target_col], preds_test_labels)}')"
   ]
  },
  {
   "cell_type": "code",
   "execution_count": 41,
   "metadata": {},
   "outputs": [],
   "source": [
    "taxi_test.to_csv('./app/data/yellow_tripdata_2020-04_test.csv', index=False)"
   ]
  },
  {
   "cell_type": "markdown",
   "metadata": {},
   "source": [
    "# Evaluación Mayo 2020"
   ]
  },
  {
   "cell_type": "code",
   "execution_count": 42,
   "metadata": {},
   "outputs": [
    {
     "name": "stdout",
     "output_type": "stream",
     "text": [
      "mayo-2020 F1: 0.5536723163841808\n"
     ]
    }
   ],
   "source": [
    "taxi_may= pd.read_parquet('https://d37ci6vzurychx.cloudfront.net/trip-data/yellow_tripdata_2020-05.parquet')\n",
    "taxi_test = preprocess(taxi_may, target_col=target_col).head(1000)\n",
    "taxi_test.head()\n",
    "\n",
    "preds_test = rfc.predict_proba(taxi_test[features])\n",
    "preds_test_labels = [p[1] for p in preds_test.round()]\n",
    "print(f'mayo-2020 F1: {f1_score(taxi_test[target_col], preds_test_labels)}')"
   ]
  },
  {
   "cell_type": "code",
   "execution_count": 43,
   "metadata": {},
   "outputs": [],
   "source": [
    "taxi_test.to_csv('./app/data/yellow_tripdata_2020-05_test.csv', index=False)"
   ]
  },
  {
   "cell_type": "markdown",
   "metadata": {},
   "source": [
    "# Evaluación de varios meses"
   ]
  },
  {
   "cell_type": "code",
   "execution_count": 45,
   "metadata": {},
   "outputs": [
    {
     "name": "stderr",
     "output_type": "stream",
     "text": [
      "INFO:src.predict:Modelo cargado desde ./model/random_forest.joblib\n",
      "c:\\Users\\kurtc\\Documentos\\GitHub\\producto-datos-lab\\.venv\\lib\\site-packages\\sklearn\\utils\\validation.py:2739: UserWarning: X does not have valid feature names, but RandomForestClassifier was fitted with feature names\n",
      "  warnings.warn(\n",
      "INFO:src.predict:Predicciones realizadas para 996 muestras\n",
      "c:\\Users\\kurtc\\Documentos\\GitHub\\producto-datos-lab\\.venv\\lib\\site-packages\\sklearn\\utils\\validation.py:2739: UserWarning: X does not have valid feature names, but RandomForestClassifier was fitted with feature names\n",
      "  warnings.warn(\n",
      "INFO:src.predict:Predicciones realizadas para 995 muestras\n",
      "c:\\Users\\kurtc\\Documentos\\GitHub\\producto-datos-lab\\.venv\\lib\\site-packages\\sklearn\\utils\\validation.py:2739: UserWarning: X does not have valid feature names, but RandomForestClassifier was fitted with feature names\n",
      "  warnings.warn(\n",
      "INFO:src.predict:Predicciones realizadas para 994 muestras\n",
      "c:\\Users\\kurtc\\Documentos\\GitHub\\producto-datos-lab\\.venv\\lib\\site-packages\\sklearn\\utils\\validation.py:2739: UserWarning: X does not have valid feature names, but RandomForestClassifier was fitted with feature names\n",
      "  warnings.warn(\n",
      "INFO:src.predict:Predicciones realizadas para 981 muestras\n",
      "c:\\Users\\kurtc\\Documentos\\GitHub\\producto-datos-lab\\.venv\\lib\\site-packages\\sklearn\\utils\\validation.py:2739: UserWarning: X does not have valid feature names, but RandomForestClassifier was fitted with feature names\n",
      "  warnings.warn(\n",
      "INFO:src.predict:Predicciones realizadas para 989 muestras\n"
     ]
    },
    {
     "name": "stdout",
     "output_type": "stream",
     "text": [
      "       mes  n_samples  f1_score\n",
      "0  2020-01        996  0.708539\n",
      "1  2020-02        995  0.746469\n",
      "2  2020-03        994  0.742172\n",
      "3  2020-04        981  0.546154\n",
      "4  2020-05        989  0.553435\n"
     ]
    }
   ],
   "source": [
    "# Puedes especificar los meses o dejarlo vacío para evaluar todos los disponibles en config\n",
    "resultados = evaluar_meses_tabla()\n",
    "\n",
    "# Mostrar la tabla de resultados\n",
    "print(resultados)"
   ]
  },
  {
   "cell_type": "code",
   "execution_count": 46,
   "metadata": {},
   "outputs": [
    {
     "data": {
      "text/html": [
       "<div>\n",
       "<style scoped>\n",
       "    .dataframe tbody tr th:only-of-type {\n",
       "        vertical-align: middle;\n",
       "    }\n",
       "\n",
       "    .dataframe tbody tr th {\n",
       "        vertical-align: top;\n",
       "    }\n",
       "\n",
       "    .dataframe thead th {\n",
       "        text-align: right;\n",
       "    }\n",
       "</style>\n",
       "<table border=\"1\" class=\"dataframe\">\n",
       "  <thead>\n",
       "    <tr style=\"text-align: right;\">\n",
       "      <th></th>\n",
       "      <th>mes</th>\n",
       "      <th>n_samples</th>\n",
       "      <th>f1_score</th>\n",
       "    </tr>\n",
       "  </thead>\n",
       "  <tbody>\n",
       "    <tr>\n",
       "      <th>0</th>\n",
       "      <td>2020-01</td>\n",
       "      <td>996</td>\n",
       "      <td>0.708539</td>\n",
       "    </tr>\n",
       "    <tr>\n",
       "      <th>1</th>\n",
       "      <td>2020-02</td>\n",
       "      <td>995</td>\n",
       "      <td>0.746469</td>\n",
       "    </tr>\n",
       "    <tr>\n",
       "      <th>2</th>\n",
       "      <td>2020-03</td>\n",
       "      <td>994</td>\n",
       "      <td>0.742172</td>\n",
       "    </tr>\n",
       "    <tr>\n",
       "      <th>3</th>\n",
       "      <td>2020-04</td>\n",
       "      <td>981</td>\n",
       "      <td>0.546154</td>\n",
       "    </tr>\n",
       "    <tr>\n",
       "      <th>4</th>\n",
       "      <td>2020-05</td>\n",
       "      <td>989</td>\n",
       "      <td>0.553435</td>\n",
       "    </tr>\n",
       "  </tbody>\n",
       "</table>\n",
       "</div>"
      ],
      "text/plain": [
       "       mes  n_samples  f1_score\n",
       "0  2020-01        996  0.708539\n",
       "1  2020-02        995  0.746469\n",
       "2  2020-03        994  0.742172\n",
       "3  2020-04        981  0.546154\n",
       "4  2020-05        989  0.553435"
      ]
     },
     "execution_count": 46,
     "metadata": {},
     "output_type": "execute_result"
    }
   ],
   "source": [
    "resultados"
   ]
  }
 ],
 "metadata": {
  "kernelspec": {
   "display_name": ".venv",
   "language": "python",
   "name": "python3"
  },
  "language_info": {
   "codemirror_mode": {
    "name": "ipython",
    "version": 3
   },
   "file_extension": ".py",
   "mimetype": "text/x-python",
   "name": "python",
   "nbconvert_exporter": "python",
   "pygments_lexer": "ipython3",
   "version": "3.9.23"
  },
  "orig_nbformat": 4
 },
 "nbformat": 4,
 "nbformat_minor": 2
}
